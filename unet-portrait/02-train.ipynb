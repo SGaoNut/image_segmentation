{
 "cells": [
  {
   "cell_type": "markdown",
   "metadata": {},
   "source": [
    "## 0. 参数配置"
   ]
  },
  {
   "cell_type": "code",
   "execution_count": 6,
   "metadata": {},
   "outputs": [],
   "source": [
    "import os\n",
    "import sys\n",
    "import shutil\n",
    "BASE_DIR = os.getcwd()\n",
    "sys.path.append(os.path.join(BASE_DIR, '..'))\n",
    "from functools import partial\n",
    "import tensorflow as tf\n",
    "import matplotlib.pyplot as plt\n",
    "from tqdm import tqdm\n",
    "from tensorflow.keras.optimizers.schedules import ExponentialDecay\n",
    "from tensorflow.keras.optimizers import Adam\n",
    "from nets.unet import Unet\n",
    "from nets.unet_training import CE, Generator, LossHistory\n",
    "from utils.metrics import f_score\n",
    "\n",
    "gpus = tf.config.experimental.list_physical_devices(device_type='GPU')\n",
    "for gpu in gpus:\n",
    "    tf.config.experimental.set_memory_growth(gpu, True)"
   ]
  },
  {
   "cell_type": "code",
   "execution_count": 7,
   "metadata": {
    "code_folding": [
     0,
     18,
     27
    ]
   },
   "outputs": [],
   "source": [
    "def get_train_step_fn():\n",
    "    @tf.function\n",
    "    def train_step(images, labels, net, optimizer, loss):\n",
    "        with tf.GradientTape() as tape:\n",
    "            # 计算loss\n",
    "            prediction = net(images, training=True)\n",
    "            # print(\"loss input: {} {}\".format(labels.shape, prediction.shape))\n",
    "            loss_value = loss(labels, prediction)\n",
    "\n",
    "        grads = tape.gradient(loss_value, net.trainable_variables)\n",
    "        optimizer.apply_gradients(zip(grads, net.trainable_variables))\n",
    "        \n",
    "        _f_score = f_score()(labels, prediction)\n",
    "        return loss_value, _f_score\n",
    "    return train_step\n",
    "\n",
    "\n",
    "@tf.function\n",
    "def val_step(images, labels, net, loss):\n",
    "    # 计算loss\n",
    "    prediction = net(images, training=False)\n",
    "    loss_value = loss(labels, prediction)\n",
    "    \n",
    "    _f_score = f_score()(labels, prediction)\n",
    "    return loss_value, _f_score\n",
    "\n",
    "\n",
    "def fit_one_epoch(net, loss, optimizer, epoch, epoch_size, epoch_size_val, gen, genval, Epoch, train_step):\n",
    "    total_loss = 0\n",
    "    total_f_score = 0\n",
    "\n",
    "    val_loss = 0\n",
    "    val_f_score = 0\n",
    "    with tqdm(total=epoch_size,desc=f'Epoch {epoch + 1}/{Epoch}',postfix=dict,mininterval=0.3) as pbar:\n",
    "        for iteration, batch in enumerate(gen):\n",
    "            if iteration >= epoch_size:\n",
    "                break\n",
    "            images, labels = batch[0], batch[1]\n",
    "            labels = tf.cast(tf.convert_to_tensor(labels), tf.float32)\n",
    "\n",
    "            loss_value, _f_score = train_step(images, labels, net, optimizer, loss)\n",
    "            total_loss += loss_value.numpy()\n",
    "            total_f_score += _f_score.numpy()\n",
    "\n",
    "            pbar.set_postfix(**{'Total Loss'        : total_loss / (iteration + 1), \n",
    "                                'Total f_score'     : total_f_score / (iteration + 1),\n",
    "                                'lr'                : optimizer._decayed_lr(tf.float32).numpy()})\n",
    "            pbar.update(1)\n",
    "        \n",
    "    print('Start Validation')\n",
    "    with tqdm(total=epoch_size_val, desc=f'Epoch {epoch + 1}/{Epoch}',postfix=dict,mininterval=0.3) as pbar:\n",
    "        for iteration, batch in enumerate(genval):\n",
    "            if iteration>=epoch_size_val:\n",
    "                break\n",
    "            images, labels = batch[0], batch[1]\n",
    "            labels = tf.convert_to_tensor(labels)\n",
    "\n",
    "            loss_value, _f_score = val_step(images, labels, net, loss)\n",
    "            val_loss            += loss_value.numpy()\n",
    "            val_f_score         += _f_score.numpy()\n",
    "\n",
    "            pbar.set_postfix(**{'Val Loss'      : val_loss / (iteration + 1), \n",
    "                                'Val f_score'   : val_f_score / (iteration + 1)})\n",
    "            pbar.update(1)\n",
    "\n",
    "    logs = {'loss': total_loss/(epoch_size+1), 'val_loss': val_loss/(epoch_size_val+1)}\n",
    "    loss_history.on_epoch_end([], logs)\n",
    "    print('Finish Validation')\n",
    "    print('Epoch:' + str(epoch+1) + '/' + str(Epoch))\n",
    "    print('Total Loss: %.4f || Val Loss: %.4f ' % (total_loss/(epoch_size+1),val_loss/(epoch_size_val+1)))"
   ]
  },
  {
   "cell_type": "code",
   "execution_count": 8,
   "metadata": {
    "code_folding": []
   },
   "outputs": [
    {
     "name": "stdout",
     "output_type": "stream",
     "text": [
      "日志文件夹位于:/mnt/cd1/home/teacher/notebooks/cv_project_2days/image_segmentation/unet-portrait/logs/loss_2021_08_24_11_40_08\n"
     ]
    }
   ],
   "source": [
    "# step0：参数配置\n",
    "# dataset_path = r\"G:\\deep_learning_data\\EG_dataset\\voc_format\"  # local \n",
    "dataset_path = os.path.join(BASE_DIR, \"..\", \"data\", \"dataset\", \"voc_format\")  #  linux \n",
    "model_path = os.path.join(BASE_DIR, \"data\", \"model_data\", \"unet_voc.h5\") # 预训练模型\n",
    "\n",
    "max_epoch = 100  # 总迭代轮\n",
    "Batch_size = 1  # 去修改下\n",
    "inputs_size = [224, 224, 3]\n",
    "num_classes = 2  # 模型输出通道数， 这包含背景类别数，本例中为 1+1=2   # \n",
    "lr = 1e-4\n",
    "decay_rate = 0.95  # 指数衰减参数，每个epoch之后，学习率衰减率\n",
    "\n",
    "import datetime\n",
    "curr_time = datetime.datetime.now()\n",
    "time_str = datetime.datetime.strftime(curr_time, '%Y_%m_%d_%H_%M_%S')\n",
    "loss_history = LossHistory(\"logs/\", time_str)\n",
    "log_dir = os.path.join(BASE_DIR, \"logs\", \"loss_\" + time_str)\n",
    "print(\"日志文件夹位于:{}\".format(log_dir))"
   ]
  },
  {
   "cell_type": "markdown",
   "metadata": {},
   "source": [
    "## 1. 数据集创建"
   ]
  },
  {
   "cell_type": "code",
   "execution_count": 9,
   "metadata": {
    "code_folding": []
   },
   "outputs": [
    {
     "ename": "FileNotFoundError",
     "evalue": "[Errno 2] No such file or directory: '/mnt/cd1/home/teacher/notebooks/cv_project_2days/image_segmentation/unet-portrait/../data/dataset/voc_format/ImageSets/Segmentation/train.txt'",
     "output_type": "error",
     "traceback": [
      "\u001B[0;31m---------------------------------------------------------------------------\u001B[0m",
      "\u001B[0;31mFileNotFoundError\u001B[0m                         Traceback (most recent call last)",
      "\u001B[0;32m<ipython-input-9-b27e6cbb2f71>\u001B[0m in \u001B[0;36m<module>\u001B[0;34m\u001B[0m\n\u001B[1;32m      1\u001B[0m \u001B[0;31m# step1：数据集创建\u001B[0m\u001B[0;34m\u001B[0m\u001B[0;34m\u001B[0m\u001B[0;34m\u001B[0m\u001B[0m\n\u001B[0;32m----> 2\u001B[0;31m \u001B[0;32mwith\u001B[0m \u001B[0mopen\u001B[0m\u001B[0;34m(\u001B[0m\u001B[0mos\u001B[0m\u001B[0;34m.\u001B[0m\u001B[0mpath\u001B[0m\u001B[0;34m.\u001B[0m\u001B[0mjoin\u001B[0m\u001B[0;34m(\u001B[0m\u001B[0mdataset_path\u001B[0m\u001B[0;34m,\u001B[0m \u001B[0;34m\"ImageSets/Segmentation/train.txt\"\u001B[0m\u001B[0;34m)\u001B[0m\u001B[0;34m,\u001B[0m \u001B[0;34m\"r\"\u001B[0m\u001B[0;34m)\u001B[0m \u001B[0;32mas\u001B[0m \u001B[0mf\u001B[0m\u001B[0;34m:\u001B[0m\u001B[0;34m\u001B[0m\u001B[0;34m\u001B[0m\u001B[0m\n\u001B[0m\u001B[1;32m      3\u001B[0m     \u001B[0mtrain_lines\u001B[0m \u001B[0;34m=\u001B[0m \u001B[0mf\u001B[0m\u001B[0;34m.\u001B[0m\u001B[0mreadlines\u001B[0m\u001B[0;34m(\u001B[0m\u001B[0;34m)\u001B[0m\u001B[0;34m\u001B[0m\u001B[0;34m\u001B[0m\u001B[0m\n\u001B[1;32m      4\u001B[0m \u001B[0;32mwith\u001B[0m \u001B[0mopen\u001B[0m\u001B[0;34m(\u001B[0m\u001B[0mos\u001B[0m\u001B[0;34m.\u001B[0m\u001B[0mpath\u001B[0m\u001B[0;34m.\u001B[0m\u001B[0mjoin\u001B[0m\u001B[0;34m(\u001B[0m\u001B[0mdataset_path\u001B[0m\u001B[0;34m,\u001B[0m \u001B[0;34m\"ImageSets/Segmentation/val.txt\"\u001B[0m\u001B[0;34m)\u001B[0m\u001B[0;34m,\u001B[0m \u001B[0;34m\"r\"\u001B[0m\u001B[0;34m)\u001B[0m \u001B[0;32mas\u001B[0m \u001B[0mf\u001B[0m\u001B[0;34m:\u001B[0m\u001B[0;34m\u001B[0m\u001B[0;34m\u001B[0m\u001B[0m\n\u001B[1;32m      5\u001B[0m     \u001B[0mval_lines\u001B[0m \u001B[0;34m=\u001B[0m \u001B[0mf\u001B[0m\u001B[0;34m.\u001B[0m\u001B[0mreadlines\u001B[0m\u001B[0;34m(\u001B[0m\u001B[0;34m)\u001B[0m\u001B[0;34m\u001B[0m\u001B[0;34m\u001B[0m\u001B[0m\n",
      "\u001B[0;31mFileNotFoundError\u001B[0m: [Errno 2] No such file or directory: '/mnt/cd1/home/teacher/notebooks/cv_project_2days/image_segmentation/unet-portrait/../data/dataset/voc_format/ImageSets/Segmentation/train.txt'"
     ]
    }
   ],
   "source": [
    "# step1：数据集创建\n",
    "with open(os.path.join(dataset_path, \"ImageSets/Segmentation/train.txt\"), \"r\") as f:\n",
    "    train_lines = f.readlines()\n",
    "with open(os.path.join(dataset_path, \"ImageSets/Segmentation/val.txt\"), \"r\") as f:\n",
    "    val_lines = f.readlines()\n",
    "\n",
    "epoch_size = len(train_lines) // Batch_size  # 计算一个epoch有几个iteration\n",
    "epoch_size_val = len(val_lines) // Batch_size\n",
    "\n",
    "#  利用生成器创建dataset\n",
    "gen = Generator(Batch_size, train_lines, inputs_size, num_classes, dataset_path)\n",
    "gen = tf.data.Dataset.from_generator(partial(gen.generate, random_data=True), (tf.float32, tf.float32))\n",
    "gen = gen.shuffle(buffer_size=Batch_size).prefetch(buffer_size=Batch_size)\n",
    "\n",
    "gen_val = Generator(Batch_size, val_lines, inputs_size, num_classes, dataset_path)\n",
    "gen_val = tf.data.Dataset.from_generator(partial(gen_val.generate, random_data=False), (tf.float32, tf.float32))\n",
    "gen_val = gen_val.shuffle(buffer_size=Batch_size).prefetch(buffer_size=Batch_size)\n",
    "\n",
    "if epoch_size == 0 or epoch_size_val == 0:\n",
    "    raise ValueError(\"数据集过小，无法进行训练，请扩充数据集。\")"
   ]
  },
  {
   "cell_type": "code",
   "execution_count": 5,
   "metadata": {
    "code_folding": [
     0,
     9
    ]
   },
   "outputs": [],
   "source": [
    "class Generator(object):\n",
    "    def __init__(self,batch_size,train_lines,image_size,num_classes,dataset_path):\n",
    "        self.batch_size     = batch_size\n",
    "        self.train_lines    = train_lines\n",
    "        self.train_batches  = len(train_lines)\n",
    "        self.image_size     = image_size\n",
    "        self.num_classes    = num_classes\n",
    "        self.dataset_path   = dataset_path\n",
    "\n",
    "    def get_random_data(self, image, label, input_shape, jitter=.3, hue=.1, sat=1.5, val=1.5):\n",
    "        label = Image.fromarray(np.array(label))\n",
    "\n",
    "        h, w = input_shape\n",
    "        # resize image\n",
    "        rand_jit1 = rand(1-jitter,1+jitter)\n",
    "        rand_jit2 = rand(1-jitter,1+jitter)\n",
    "        new_ar = w/h * rand_jit1/rand_jit2\n",
    "\n",
    "        scale = rand(0.25, 2)\n",
    "        if new_ar < 1:\n",
    "            nh = int(scale*h)\n",
    "            nw = int(nh*new_ar)\n",
    "        else:\n",
    "            nw = int(scale*w)\n",
    "            nh = int(nw/new_ar)\n",
    "        image = image.resize((nw,nh), Image.BICUBIC)\n",
    "        label = label.resize((nw,nh), Image.NEAREST)\n",
    "        label = label.convert(\"L\")\n",
    "        \n",
    "        # flip image or not\n",
    "        flip = rand()<.5\n",
    "        if flip: \n",
    "            image = image.transpose(Image.FLIP_LEFT_RIGHT)\n",
    "            label = label.transpose(Image.FLIP_LEFT_RIGHT)\n",
    "        \n",
    "        # place image\n",
    "        dx = int(rand(0, w-nw))\n",
    "        dy = int(rand(0, h-nh))\n",
    "        new_image = Image.new('RGB', (w,h), (128,128,128))\n",
    "        new_label = Image.new('L', (w,h), (0))\n",
    "        new_image.paste(image, (dx, dy))\n",
    "        new_label.paste(label, (dx, dy))\n",
    "        image = new_image\n",
    "        label = new_label\n",
    "\n",
    "        # distort image\n",
    "        hue = rand(-hue, hue)\n",
    "        sat = rand(1, sat) if rand()<.5 else 1/rand(1, sat)\n",
    "        val = rand(1, val) if rand()<.5 else 1/rand(1, val)\n",
    "        x = cv2.cvtColor(np.array(image,np.float32)/255, cv2.COLOR_RGB2HSV)\n",
    "        x[..., 0] += hue*360\n",
    "        x[..., 0][x[..., 0]>1] -= 1\n",
    "        x[..., 0][x[..., 0]<0] += 1\n",
    "        x[..., 1] *= sat\n",
    "        x[..., 2] *= val\n",
    "        x[x[:,:, 0]>360, 0] = 360\n",
    "        x[:, :, 1:][x[:, :, 1:]>1] = 1\n",
    "        x[x<0] = 0\n",
    "        image_data = cv2.cvtColor(x, cv2.COLOR_HSV2RGB)*255\n",
    "        return image_data,label\n",
    "        \n",
    "    def generate(self, random_data=True):\n",
    "        i = 0\n",
    "        length = len(self.train_lines)\n",
    "        inputs = []\n",
    "        targets = []\n",
    "        while True:\n",
    "            if i == 0:\n",
    "                shuffle(self.train_lines)\n",
    "            annotation_line = self.train_lines[i]\n",
    "            name = annotation_line.split()[0]\n",
    "\n",
    "            # 从文件中读取图像\n",
    "            jpg = Image.open(os.path.join(os.path.join(self.dataset_path, \"JPEGImages\"), name + \".png\"))\n",
    "            png = Image.open(os.path.join(os.path.join(self.dataset_path, \"SegmentationClass\"), name + \"_matte.png\"))\n",
    "\n",
    "            if random_data:\n",
    "                jpg, png = self.get_random_data(jpg, png, (int(self.image_size[1]), int(self.image_size[0])))\n",
    "            else:\n",
    "                # letterbox 表示等长宽比缩放图片，不足地方用灰色补\n",
    "                jpg, png = letterbox_image(jpg, png, (int(self.image_size[1]), int(self.image_size[0])))\n",
    "\n",
    "            # img的处理\n",
    "            inputs.append(np.array(jpg)/255)\n",
    "            # 标签的处理：处理为float类型的标签，不适合用int（非0即1，非黑即白的形式，因为边界需要过渡）\n",
    "            png = np.array(png)/255  # 转为[0, 1]\n",
    "            png_cp = png.copy()\n",
    "            h, w, _ = self.image_size\n",
    "\n",
    "            # 如果采用one-hot效果就会比较差，采用连续变量会比较好\n",
    "            seg_labels = np.zeros((h, w, self.num_classes+1))  # 增加1个通道是为匹配loss计算时候提出最后一个通道\n",
    "            seg_labels[:, :, 0] = 1 - png_cp    # 第0通道表示背景\n",
    "            seg_labels[:, :, 1] = png_cp        # 第1通道表示人像（前景）\n",
    "\n",
    "            targets.append(seg_labels)\n",
    "\n",
    "            i = (i + 1) % length\n",
    "            if len(targets) == self.batch_size:\n",
    "                tmp_inp = np.array(inputs)\n",
    "                tmp_targets = np.array(targets)\n",
    "                inputs = []\n",
    "                targets = []\n",
    "                # (1, 512, 512, 3) (1, 512, 512, cls_num + 1)  # 这里的cls_num包括了背景类别\n",
    "                yield tmp_inp, tmp_targets\n"
   ]
  },
  {
   "cell_type": "code",
   "execution_count": 29,
   "metadata": {},
   "outputs": [
    {
     "name": "stdout",
     "output_type": "stream",
     "text": [
      "Train on 1800 samples, val on 200 samples, with batch size 1.\n"
     ]
    }
   ],
   "source": [
    "print('Train on {} samples, val on {} samples, with batch size {}.'.format(len(train_lines), len(val_lines), Batch_size))"
   ]
  },
  {
   "cell_type": "markdown",
   "metadata": {},
   "source": [
    "#### 观察gen生成器中产生的数据"
   ]
  },
  {
   "cell_type": "code",
   "execution_count": 24,
   "metadata": {},
   "outputs": [],
   "source": [
    "for i, batch in enumerate(gen):\n",
    "    if i > 1:\n",
    "        break\n",
    "    img, labels = batch\n"
   ]
  },
  {
   "cell_type": "code",
   "execution_count": 30,
   "metadata": {},
   "outputs": [
    {
     "name": "stdout",
     "output_type": "stream",
     "text": [
      "(1, 224, 224, 3) (1, 224, 224, 3)\n",
      "tf.Tensor([0.6656807  0.32050315 0.25912893], shape=(3,), dtype=float32)\n",
      "tf.Tensor([0. 1. 0.], shape=(3,), dtype=float32)\n"
     ]
    }
   ],
   "source": [
    "print(img.shape, labels.shape)\n",
    "print(img[0, 100, 100, :])\n",
    "print(labels[0, 100, 100, :])"
   ]
  },
  {
   "cell_type": "code",
   "execution_count": 31,
   "metadata": {},
   "outputs": [
    {
     "name": "stdout",
     "output_type": "stream",
     "text": [
      "(224, 224)\n"
     ]
    },
    {
     "data": {
      "text/plain": [
       "<matplotlib.image.AxesImage at 0x7f539797a130>"
      ]
     },
     "execution_count": 31,
     "metadata": {},
     "output_type": "execute_result"
    },
    {
     "data": {
      "image/png": "[encoded data removed]",
      "text/plain": [
       "<Figure size 432x288 with 1 Axes>"
      ]
     },
     "metadata": {
      "needs_background": "light"
     },
     "output_type": "display_data"
    }
   ],
   "source": [
    "label_numpy = labels.numpy()[0,:,:,1]\n",
    "print(label_numpy.shape)\n",
    "plt.imshow(label_numpy, cmap=\"gray\")"
   ]
  },
  {
   "cell_type": "markdown",
   "metadata": {},
   "source": [
    "## 2.创建model"
   ]
  },
  {
   "cell_type": "code",
   "execution_count": 13,
   "metadata": {
    "code_folding": []
   },
   "outputs": [
    {
     "name": "stdout",
     "output_type": "stream",
     "text": [
      "WARNING:tensorflow:Skipping loading of weights for layer conv2d_8 due to mismatch in shape ((1, 1, 64, 2) vs (21, 64, 1, 1)).\n",
      "WARNING:tensorflow:Skipping loading of weights for layer conv2d_8 due to mismatch in shape ((2,) vs (21,)).\n"
     ]
    }
   ],
   "source": [
    "# step2： 创建model\n",
    "model = Unet(inputs_size, num_classes)  # 需要传入输入大小和最终输出通道数\n",
    "model.load_weights(model_path, by_name=True, skip_mismatch=True)  # 加载预训练模型"
   ]
  },
  {
   "cell_type": "code",
   "execution_count": 14,
   "metadata": {
    "code_folding": []
   },
   "outputs": [],
   "source": [
    "# step3：创建loss及优化器\n",
    "loss = CE()\n",
    "lr_schedule = ExponentialDecay(initial_learning_rate=lr, decay_steps=epoch_size,decay_rate=decay_rate, staircase=True)\n",
    "optimizer = Adam(learning_rate=lr_schedule)"
   ]
  },
  {
   "cell_type": "code",
   "execution_count": 15,
   "metadata": {
    "code_folding": []
   },
   "outputs": [
    {
     "name": "stderr",
     "output_type": "stream",
     "text": [
      "Epoch 1/100:   1%|          | 13/1800 [00:05<11:48,  2.52it/s, Total Loss=2.17, Total f_score=0.344, lr=1e-04] \n"
     ]
    },
    {
     "ename": "KeyboardInterrupt",
     "evalue": "",
     "output_type": "error",
     "traceback": [
      "\u001B[0;31m---------------------------------------------------------------------------\u001B[0m",
      "\u001B[0;31mKeyboardInterrupt\u001B[0m                         Traceback (most recent call last)",
      "\u001B[0;32m<ipython-input-15-d4ff77e922d7>\u001B[0m in \u001B[0;36m<module>\u001B[0;34m\u001B[0m\n\u001B[1;32m      1\u001B[0m \u001B[0;31m# step4：迭代训练\u001B[0m\u001B[0;34m\u001B[0m\u001B[0;34m\u001B[0m\u001B[0;34m\u001B[0m\u001B[0m\n\u001B[1;32m      2\u001B[0m \u001B[0;32mfor\u001B[0m \u001B[0mepoch\u001B[0m \u001B[0;32min\u001B[0m \u001B[0mrange\u001B[0m\u001B[0;34m(\u001B[0m\u001B[0mmax_epoch\u001B[0m\u001B[0;34m)\u001B[0m\u001B[0;34m:\u001B[0m\u001B[0;34m\u001B[0m\u001B[0;34m\u001B[0m\u001B[0m\n\u001B[0;32m----> 3\u001B[0;31m     \u001B[0mfit_one_epoch\u001B[0m\u001B[0;34m(\u001B[0m\u001B[0mmodel\u001B[0m\u001B[0;34m,\u001B[0m \u001B[0mloss\u001B[0m\u001B[0;34m,\u001B[0m \u001B[0moptimizer\u001B[0m\u001B[0;34m,\u001B[0m \u001B[0mepoch\u001B[0m\u001B[0;34m,\u001B[0m \u001B[0mepoch_size\u001B[0m\u001B[0;34m,\u001B[0m \u001B[0mepoch_size_val\u001B[0m\u001B[0;34m,\u001B[0m \u001B[0mgen\u001B[0m\u001B[0;34m,\u001B[0m \u001B[0mgen_val\u001B[0m\u001B[0;34m,\u001B[0m \u001B[0mmax_epoch\u001B[0m\u001B[0;34m,\u001B[0m \u001B[0mget_train_step_fn\u001B[0m\u001B[0;34m(\u001B[0m\u001B[0;34m)\u001B[0m\u001B[0;34m)\u001B[0m\u001B[0;34m\u001B[0m\u001B[0;34m\u001B[0m\u001B[0m\n\u001B[0m\u001B[1;32m      4\u001B[0m     \u001B[0mpath_model\u001B[0m \u001B[0;34m=\u001B[0m \u001B[0mos\u001B[0m\u001B[0;34m.\u001B[0m\u001B[0mpath\u001B[0m\u001B[0;34m.\u001B[0m\u001B[0mjoin\u001B[0m\u001B[0;34m(\u001B[0m\u001B[0mlog_dir\u001B[0m\u001B[0;34m,\u001B[0m \u001B[0;34m\"model_weight_{}.h5\"\u001B[0m\u001B[0;34m.\u001B[0m\u001B[0mformat\u001B[0m\u001B[0;34m(\u001B[0m\u001B[0mtime_str\u001B[0m\u001B[0;34m)\u001B[0m\u001B[0;34m)\u001B[0m\u001B[0;34m\u001B[0m\u001B[0;34m\u001B[0m\u001B[0m\n\u001B[1;32m      5\u001B[0m     \u001B[0mmodel\u001B[0m\u001B[0;34m.\u001B[0m\u001B[0msave_weights\u001B[0m\u001B[0;34m(\u001B[0m\u001B[0mpath_model\u001B[0m\u001B[0;34m)\u001B[0m\u001B[0;34m\u001B[0m\u001B[0;34m\u001B[0m\u001B[0m\n",
      "\u001B[0;32m<ipython-input-6-d835d0e07c34>\u001B[0m in \u001B[0;36mfit_one_epoch\u001B[0;34m(net, loss, optimizer, epoch, epoch_size, epoch_size_val, gen, genval, Epoch, train_step)\u001B[0m\n\u001B[1;32m     40\u001B[0m \u001B[0;34m\u001B[0m\u001B[0m\n\u001B[1;32m     41\u001B[0m             \u001B[0mloss_value\u001B[0m\u001B[0;34m,\u001B[0m \u001B[0m_f_score\u001B[0m \u001B[0;34m=\u001B[0m \u001B[0mtrain_step\u001B[0m\u001B[0;34m(\u001B[0m\u001B[0mimages\u001B[0m\u001B[0;34m,\u001B[0m \u001B[0mlabels\u001B[0m\u001B[0;34m,\u001B[0m \u001B[0mnet\u001B[0m\u001B[0;34m,\u001B[0m \u001B[0moptimizer\u001B[0m\u001B[0;34m,\u001B[0m \u001B[0mloss\u001B[0m\u001B[0;34m)\u001B[0m\u001B[0;34m\u001B[0m\u001B[0;34m\u001B[0m\u001B[0m\n\u001B[0;32m---> 42\u001B[0;31m             \u001B[0mtotal_loss\u001B[0m \u001B[0;34m+=\u001B[0m \u001B[0mloss_value\u001B[0m\u001B[0;34m.\u001B[0m\u001B[0mnumpy\u001B[0m\u001B[0;34m(\u001B[0m\u001B[0;34m)\u001B[0m\u001B[0;34m\u001B[0m\u001B[0;34m\u001B[0m\u001B[0m\n\u001B[0m\u001B[1;32m     43\u001B[0m             \u001B[0mtotal_f_score\u001B[0m \u001B[0;34m+=\u001B[0m \u001B[0m_f_score\u001B[0m\u001B[0;34m.\u001B[0m\u001B[0mnumpy\u001B[0m\u001B[0;34m(\u001B[0m\u001B[0;34m)\u001B[0m\u001B[0;34m\u001B[0m\u001B[0;34m\u001B[0m\u001B[0m\n\u001B[1;32m     44\u001B[0m \u001B[0;34m\u001B[0m\u001B[0m\n",
      "\u001B[0;32m~/.local/lib/python3.8/site-packages/tensorflow/python/framework/ops.py\u001B[0m in \u001B[0;36mnumpy\u001B[0;34m(self)\u001B[0m\n\u001B[1;32m   1061\u001B[0m     \"\"\"\n\u001B[1;32m   1062\u001B[0m     \u001B[0;31m# TODO(slebedev): Consider avoiding a copy for non-CPU or remote tensors.\u001B[0m\u001B[0;34m\u001B[0m\u001B[0;34m\u001B[0m\u001B[0;34m\u001B[0m\u001B[0m\n\u001B[0;32m-> 1063\u001B[0;31m     \u001B[0mmaybe_arr\u001B[0m \u001B[0;34m=\u001B[0m \u001B[0mself\u001B[0m\u001B[0;34m.\u001B[0m\u001B[0m_numpy\u001B[0m\u001B[0;34m(\u001B[0m\u001B[0;34m)\u001B[0m  \u001B[0;31m# pylint: disable=protected-access\u001B[0m\u001B[0;34m\u001B[0m\u001B[0;34m\u001B[0m\u001B[0m\n\u001B[0m\u001B[1;32m   1064\u001B[0m     \u001B[0;32mreturn\u001B[0m \u001B[0mmaybe_arr\u001B[0m\u001B[0;34m.\u001B[0m\u001B[0mcopy\u001B[0m\u001B[0;34m(\u001B[0m\u001B[0;34m)\u001B[0m \u001B[0;32mif\u001B[0m \u001B[0misinstance\u001B[0m\u001B[0;34m(\u001B[0m\u001B[0mmaybe_arr\u001B[0m\u001B[0;34m,\u001B[0m \u001B[0mnp\u001B[0m\u001B[0;34m.\u001B[0m\u001B[0mndarray\u001B[0m\u001B[0;34m)\u001B[0m \u001B[0;32melse\u001B[0m \u001B[0mmaybe_arr\u001B[0m\u001B[0;34m\u001B[0m\u001B[0;34m\u001B[0m\u001B[0m\n\u001B[1;32m   1065\u001B[0m \u001B[0;34m\u001B[0m\u001B[0m\n",
      "\u001B[0;32m~/.local/lib/python3.8/site-packages/tensorflow/python/framework/ops.py\u001B[0m in \u001B[0;36m_numpy\u001B[0;34m(self)\u001B[0m\n\u001B[1;32m   1027\u001B[0m   \u001B[0;32mdef\u001B[0m \u001B[0m_numpy\u001B[0m\u001B[0;34m(\u001B[0m\u001B[0mself\u001B[0m\u001B[0;34m)\u001B[0m\u001B[0;34m:\u001B[0m\u001B[0;34m\u001B[0m\u001B[0;34m\u001B[0m\u001B[0m\n\u001B[1;32m   1028\u001B[0m     \u001B[0;32mtry\u001B[0m\u001B[0;34m:\u001B[0m\u001B[0;34m\u001B[0m\u001B[0;34m\u001B[0m\u001B[0m\n\u001B[0;32m-> 1029\u001B[0;31m       \u001B[0;32mreturn\u001B[0m \u001B[0mself\u001B[0m\u001B[0;34m.\u001B[0m\u001B[0m_numpy_internal\u001B[0m\u001B[0;34m(\u001B[0m\u001B[0;34m)\u001B[0m\u001B[0;34m\u001B[0m\u001B[0;34m\u001B[0m\u001B[0m\n\u001B[0m\u001B[1;32m   1030\u001B[0m     \u001B[0;32mexcept\u001B[0m \u001B[0mcore\u001B[0m\u001B[0;34m.\u001B[0m\u001B[0m_NotOkStatusException\u001B[0m \u001B[0;32mas\u001B[0m \u001B[0me\u001B[0m\u001B[0;34m:\u001B[0m  \u001B[0;31m# pylint: disable=protected-access\u001B[0m\u001B[0;34m\u001B[0m\u001B[0;34m\u001B[0m\u001B[0m\n\u001B[1;32m   1031\u001B[0m       \u001B[0msix\u001B[0m\u001B[0;34m.\u001B[0m\u001B[0mraise_from\u001B[0m\u001B[0;34m(\u001B[0m\u001B[0mcore\u001B[0m\u001B[0;34m.\u001B[0m\u001B[0m_status_to_exception\u001B[0m\u001B[0;34m(\u001B[0m\u001B[0me\u001B[0m\u001B[0;34m.\u001B[0m\u001B[0mcode\u001B[0m\u001B[0;34m,\u001B[0m \u001B[0me\u001B[0m\u001B[0;34m.\u001B[0m\u001B[0mmessage\u001B[0m\u001B[0;34m)\u001B[0m\u001B[0;34m,\u001B[0m \u001B[0;32mNone\u001B[0m\u001B[0;34m)\u001B[0m  \u001B[0;31m# pylint: disable=protected-access\u001B[0m\u001B[0;34m\u001B[0m\u001B[0;34m\u001B[0m\u001B[0m\n",
      "\u001B[0;31mKeyboardInterrupt\u001B[0m: "
     ]
    }
   ],
   "source": [
    "# step4：迭代训练\n",
    "for epoch in range(max_epoch):\n",
    "    fit_one_epoch(model, loss, optimizer, epoch, epoch_size, epoch_size_val, gen, gen_val, max_epoch, get_train_step_fn())\n",
    "    path_model = os.path.join(log_dir, \"model_weight_{}.h5\".format(time_str))\n",
    "    model.save_weights(path_model)\n",
    "    print(\"Epoch:{}, model save at :{}\".format(epoch, path_model))"
   ]
  }
 ],
 "metadata": {
  "kernelspec": {
   "display_name": "Python 3",
   "language": "python",
   "name": "python3"
  },
  "language_info": {
   "codemirror_mode": {
    "name": "ipython",
    "version": 3
   },
   "file_extension": ".py",
   "mimetype": "text/x-python",
   "name": "python",
   "nbconvert_exporter": "python",
   "pygments_lexer": "ipython3",
   "version": "3.8.10"
  }
 },
 "nbformat": 4,
 "nbformat_minor": 2
}